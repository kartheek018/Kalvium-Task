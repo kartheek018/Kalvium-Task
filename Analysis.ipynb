{
 "cells": [
  {
   "cell_type": "code",
   "execution_count": 172,
   "metadata": {},
   "outputs": [],
   "source": [
    "import pandas as pd"
   ]
  },
  {
   "cell_type": "code",
   "execution_count": 173,
   "metadata": {},
   "outputs": [
    {
     "data": {
      "text/html": [
       "<div>\n",
       "<style scoped>\n",
       "    .dataframe tbody tr th:only-of-type {\n",
       "        vertical-align: middle;\n",
       "    }\n",
       "\n",
       "    .dataframe tbody tr th {\n",
       "        vertical-align: top;\n",
       "    }\n",
       "\n",
       "    .dataframe thead th {\n",
       "        text-align: right;\n",
       "    }\n",
       "</style>\n",
       "<table border=\"1\" class=\"dataframe\">\n",
       "  <thead>\n",
       "    <tr style=\"text-align: right;\">\n",
       "      <th></th>\n",
       "      <th>S.No</th>\n",
       "      <th>Parliament Constituency</th>\n",
       "      <th>Winning Candidate</th>\n",
       "      <th>Total Votes</th>\n",
       "      <th>Margin</th>\n",
       "      <th>Party Name</th>\n",
       "      <th>State Name</th>\n",
       "    </tr>\n",
       "  </thead>\n",
       "  <tbody>\n",
       "    <tr>\n",
       "      <th>0</th>\n",
       "      <td>1</td>\n",
       "      <td>Anakapalle(5)</td>\n",
       "      <td>C.M.RAMESH</td>\n",
       "      <td>762069</td>\n",
       "      <td>296530</td>\n",
       "      <td>Bharatiya Janata Party</td>\n",
       "      <td>Andhra Pradesh</td>\n",
       "    </tr>\n",
       "    <tr>\n",
       "      <th>1</th>\n",
       "      <td>2</td>\n",
       "      <td>Rajahmundry(8)</td>\n",
       "      <td>DAGGUBATI PURANDHESHWARI</td>\n",
       "      <td>726515</td>\n",
       "      <td>239139</td>\n",
       "      <td>Bharatiya Janata Party</td>\n",
       "      <td>Andhra Pradesh</td>\n",
       "    </tr>\n",
       "    <tr>\n",
       "      <th>2</th>\n",
       "      <td>3</td>\n",
       "      <td>Narsapuram(9)</td>\n",
       "      <td>BHUPATHI RAJU SRINIVASA VARMA (B.J.P.VARMA)</td>\n",
       "      <td>707343</td>\n",
       "      <td>276802</td>\n",
       "      <td>Bharatiya Janata Party</td>\n",
       "      <td>Andhra Pradesh</td>\n",
       "    </tr>\n",
       "    <tr>\n",
       "      <th>3</th>\n",
       "      <td>4</td>\n",
       "      <td>Arunachal West(1)</td>\n",
       "      <td>KIREN RIJIJU</td>\n",
       "      <td>205417</td>\n",
       "      <td>100738</td>\n",
       "      <td>Bharatiya Janata Party</td>\n",
       "      <td>Arunachal Pradesh</td>\n",
       "    </tr>\n",
       "    <tr>\n",
       "      <th>4</th>\n",
       "      <td>5</td>\n",
       "      <td>Arunachal East(2)</td>\n",
       "      <td>TAPIR GAO</td>\n",
       "      <td>145581</td>\n",
       "      <td>30421</td>\n",
       "      <td>Bharatiya Janata Party</td>\n",
       "      <td>Arunachal Pradesh</td>\n",
       "    </tr>\n",
       "  </tbody>\n",
       "</table>\n",
       "</div>"
      ],
      "text/plain": [
       "   S.No Parliament Constituency                            Winning Candidate  \\\n",
       "0     1           Anakapalle(5)                                   C.M.RAMESH   \n",
       "1     2          Rajahmundry(8)                     DAGGUBATI PURANDHESHWARI   \n",
       "2     3           Narsapuram(9)  BHUPATHI RAJU SRINIVASA VARMA (B.J.P.VARMA)   \n",
       "3     4       Arunachal West(1)                                 KIREN RIJIJU   \n",
       "4     5       Arunachal East(2)                                    TAPIR GAO   \n",
       "\n",
       "  Total Votes  Margin              Party Name         State Name  \n",
       "0      762069  296530  Bharatiya Janata Party     Andhra Pradesh  \n",
       "1      726515  239139  Bharatiya Janata Party     Andhra Pradesh  \n",
       "2      707343  276802  Bharatiya Janata Party     Andhra Pradesh  \n",
       "3      205417  100738  Bharatiya Janata Party  Arunachal Pradesh  \n",
       "4      145581   30421  Bharatiya Janata Party  Arunachal Pradesh  "
      ]
     },
     "execution_count": 173,
     "metadata": {},
     "output_type": "execute_result"
    }
   ],
   "source": [
    "df=pd.read_csv(\"Candidate_Result.csv\")\n",
    "df.head()"
   ]
  },
  {
   "cell_type": "markdown",
   "metadata": {},
   "source": [
    "### Alliance "
   ]
  },
  {
   "cell_type": "code",
   "execution_count": 174,
   "metadata": {},
   "outputs": [],
   "source": [
    "NDA = [\"Bharatiya Janata Party\",\"Telugu Desam\",\"Janata Dal \",\"Janata Dal Secular\",\"Shiv Sena\",\"Lok Janshakti Party\",\"Nationalist Congress Party\",\"Apna Dal Soneylal\",\"Asom Gana Parishad\",\"Janasena Party\",\"Rashtriya Lok Dal\",\"AJSU Party\",\"Hindustani Awam Morcha Secular\",\"Sikkim Krantikari Morcha\",\"United People's Party, Liberal\"]\n",
    "INDIA = [\"Samajwadi Party\", \"Aam Aadmi Party\",\"Communist Party of India  (Marxist\", \"Indian National Congress\",\"Dravida Munnetra Kazhagam\",\"All India Trinamool Congress\",\"Shiv Sena Uddhav\",\"Nationalist Congress Party Sharadchandra Pawar\",\"Indian Union Muslim League\",\"Jammu & Kashmir National Conference\",\"Communist Party of India\",\"Jharkhand Mukti Morcha\",\"Kerala Congress\",\"Viduthalai Chiruthaigal Katchi\",\"Revolutionary Socialist Party\",\"Rashtriya Janata Dal\",\"All India Majlis-E-Ittehadul Muslimeen\",\"Marumalarchi Dravida Munnetra Kazhagam\",\"Kerala Congress\",\"Rashtriya Loktantrik Party\"]"
   ]
  },
  {
   "cell_type": "code",
   "execution_count": 175,
   "metadata": {},
   "outputs": [],
   "source": [
    "def funct(name):\n",
    "    if name in NDA:\n",
    "        return \"NDA\"\n",
    "    elif name in INDIA:\n",
    "        return \"INDIA\"\n",
    "    else:\n",
    "        return \"others\""
   ]
  },
  {
   "cell_type": "code",
   "execution_count": 176,
   "metadata": {},
   "outputs": [],
   "source": [
    "df[\"Alliance\"]=df[\"Party Name\"].apply(lambda x:funct(x))"
   ]
  },
  {
   "cell_type": "code",
   "execution_count": 177,
   "metadata": {},
   "outputs": [
    {
     "data": {
      "text/plain": [
       "NDA       292\n",
       "INDIA     234\n",
       "others     17\n",
       "Name: Alliance, dtype: int64"
      ]
     },
     "execution_count": 177,
     "metadata": {},
     "output_type": "execute_result"
    }
   ],
   "source": [
    "df[\"Alliance\"].value_counts()"
   ]
  },
  {
   "cell_type": "code",
   "execution_count": 178,
   "metadata": {},
   "outputs": [
    {
     "data": {
      "text/html": [
       "<div>\n",
       "<style scoped>\n",
       "    .dataframe tbody tr th:only-of-type {\n",
       "        vertical-align: middle;\n",
       "    }\n",
       "\n",
       "    .dataframe tbody tr th {\n",
       "        vertical-align: top;\n",
       "    }\n",
       "\n",
       "    .dataframe thead th {\n",
       "        text-align: right;\n",
       "    }\n",
       "</style>\n",
       "<table border=\"1\" class=\"dataframe\">\n",
       "  <thead>\n",
       "    <tr style=\"text-align: right;\">\n",
       "      <th></th>\n",
       "      <th>S.No</th>\n",
       "      <th>Parliament Constituency</th>\n",
       "      <th>Winning Candidate</th>\n",
       "      <th>Total Votes</th>\n",
       "      <th>Margin</th>\n",
       "      <th>Party Name</th>\n",
       "      <th>State Name</th>\n",
       "      <th>Alliance</th>\n",
       "    </tr>\n",
       "  </thead>\n",
       "  <tbody>\n",
       "    <tr>\n",
       "      <th>0</th>\n",
       "      <td>1</td>\n",
       "      <td>Anakapalle(5)</td>\n",
       "      <td>C.M.RAMESH</td>\n",
       "      <td>762069</td>\n",
       "      <td>296530</td>\n",
       "      <td>Bharatiya Janata Party</td>\n",
       "      <td>Andhra Pradesh</td>\n",
       "      <td>NDA</td>\n",
       "    </tr>\n",
       "    <tr>\n",
       "      <th>1</th>\n",
       "      <td>2</td>\n",
       "      <td>Rajahmundry(8)</td>\n",
       "      <td>DAGGUBATI PURANDHESHWARI</td>\n",
       "      <td>726515</td>\n",
       "      <td>239139</td>\n",
       "      <td>Bharatiya Janata Party</td>\n",
       "      <td>Andhra Pradesh</td>\n",
       "      <td>NDA</td>\n",
       "    </tr>\n",
       "    <tr>\n",
       "      <th>2</th>\n",
       "      <td>3</td>\n",
       "      <td>Narsapuram(9)</td>\n",
       "      <td>BHUPATHI RAJU SRINIVASA VARMA (B.J.P.VARMA)</td>\n",
       "      <td>707343</td>\n",
       "      <td>276802</td>\n",
       "      <td>Bharatiya Janata Party</td>\n",
       "      <td>Andhra Pradesh</td>\n",
       "      <td>NDA</td>\n",
       "    </tr>\n",
       "    <tr>\n",
       "      <th>3</th>\n",
       "      <td>4</td>\n",
       "      <td>Arunachal West(1)</td>\n",
       "      <td>KIREN RIJIJU</td>\n",
       "      <td>205417</td>\n",
       "      <td>100738</td>\n",
       "      <td>Bharatiya Janata Party</td>\n",
       "      <td>Arunachal Pradesh</td>\n",
       "      <td>NDA</td>\n",
       "    </tr>\n",
       "    <tr>\n",
       "      <th>4</th>\n",
       "      <td>5</td>\n",
       "      <td>Arunachal East(2)</td>\n",
       "      <td>TAPIR GAO</td>\n",
       "      <td>145581</td>\n",
       "      <td>30421</td>\n",
       "      <td>Bharatiya Janata Party</td>\n",
       "      <td>Arunachal Pradesh</td>\n",
       "      <td>NDA</td>\n",
       "    </tr>\n",
       "  </tbody>\n",
       "</table>\n",
       "</div>"
      ],
      "text/plain": [
       "   S.No Parliament Constituency                            Winning Candidate  \\\n",
       "0     1           Anakapalle(5)                                   C.M.RAMESH   \n",
       "1     2          Rajahmundry(8)                     DAGGUBATI PURANDHESHWARI   \n",
       "2     3           Narsapuram(9)  BHUPATHI RAJU SRINIVASA VARMA (B.J.P.VARMA)   \n",
       "3     4       Arunachal West(1)                                 KIREN RIJIJU   \n",
       "4     5       Arunachal East(2)                                    TAPIR GAO   \n",
       "\n",
       "  Total Votes  Margin              Party Name         State Name Alliance  \n",
       "0      762069  296530  Bharatiya Janata Party     Andhra Pradesh      NDA  \n",
       "1      726515  239139  Bharatiya Janata Party     Andhra Pradesh      NDA  \n",
       "2      707343  276802  Bharatiya Janata Party     Andhra Pradesh      NDA  \n",
       "3      205417  100738  Bharatiya Janata Party  Arunachal Pradesh      NDA  \n",
       "4      145581   30421  Bharatiya Janata Party  Arunachal Pradesh      NDA  "
      ]
     },
     "execution_count": 178,
     "metadata": {},
     "output_type": "execute_result"
    }
   ],
   "source": [
    "df.head()"
   ]
  },
  {
   "cell_type": "markdown",
   "metadata": {},
   "source": [
    "### Statewise Alliance"
   ]
  },
  {
   "cell_type": "code",
   "execution_count": 179,
   "metadata": {},
   "outputs": [],
   "source": [
    "state_result=pd.crosstab(df[\"State Name\"],df[\"Alliance\"])\n",
    "state_result.to_clipboard()"
   ]
  },
  {
   "cell_type": "code",
   "execution_count": 180,
   "metadata": {},
   "outputs": [
    {
     "data": {
      "text/plain": [
       "Bharatiya Janata Party            240\n",
       "Telugu Desam                       16\n",
       "Janata Dal                         12\n",
       "Shiv Sena                           7\n",
       "Lok Janshakti Party                 5\n",
       "Janasena Party                      2\n",
       "Janata Dal Secular                  2\n",
       "Rashtriya Lok Dal                   2\n",
       "Asom Gana Parishad                  1\n",
       "Hindustani Awam Morcha Secular      1\n",
       "Nationalist Congress Party          1\n",
       "Sikkim Krantikari Morcha            1\n",
       "Apna Dal Soneylal                   1\n",
       "AJSU Party                          1\n",
       "Name: Party Name, dtype: int64"
      ]
     },
     "execution_count": 180,
     "metadata": {},
     "output_type": "execute_result"
    }
   ],
   "source": [
    "df[df[\"Alliance\"]==\"NDA\"][\"Party Name\"].value_counts()"
   ]
  },
  {
   "cell_type": "code",
   "execution_count": 181,
   "metadata": {},
   "outputs": [
    {
     "data": {
      "text/plain": [
       "NDA       21\n",
       "others     4\n",
       "Name: Alliance, dtype: int64"
      ]
     },
     "execution_count": 181,
     "metadata": {},
     "output_type": "execute_result"
    }
   ],
   "source": [
    "df[df[\"State Name\"]==\"Andhra Pradesh\"][\"Alliance\"].value_counts()"
   ]
  },
  {
   "cell_type": "code",
   "execution_count": 182,
   "metadata": {},
   "outputs": [
    {
     "data": {
      "text/html": [
       "<div>\n",
       "<style scoped>\n",
       "    .dataframe tbody tr th:only-of-type {\n",
       "        vertical-align: middle;\n",
       "    }\n",
       "\n",
       "    .dataframe tbody tr th {\n",
       "        vertical-align: top;\n",
       "    }\n",
       "\n",
       "    .dataframe thead th {\n",
       "        text-align: right;\n",
       "    }\n",
       "</style>\n",
       "<table border=\"1\" class=\"dataframe\">\n",
       "  <thead>\n",
       "    <tr style=\"text-align: right;\">\n",
       "      <th></th>\n",
       "      <th>S.No</th>\n",
       "      <th>Parliament Constituency</th>\n",
       "      <th>Winning Candidate</th>\n",
       "      <th>Total Votes</th>\n",
       "      <th>Margin</th>\n",
       "      <th>Party Name</th>\n",
       "      <th>State Name</th>\n",
       "      <th>Alliance</th>\n",
       "    </tr>\n",
       "  </thead>\n",
       "  <tbody>\n",
       "    <tr>\n",
       "      <th>0</th>\n",
       "      <td>1</td>\n",
       "      <td>Anakapalle(5)</td>\n",
       "      <td>C.M.RAMESH</td>\n",
       "      <td>762069</td>\n",
       "      <td>296530</td>\n",
       "      <td>Bharatiya Janata Party</td>\n",
       "      <td>Andhra Pradesh</td>\n",
       "      <td>NDA</td>\n",
       "    </tr>\n",
       "    <tr>\n",
       "      <th>1</th>\n",
       "      <td>2</td>\n",
       "      <td>Rajahmundry(8)</td>\n",
       "      <td>DAGGUBATI PURANDHESHWARI</td>\n",
       "      <td>726515</td>\n",
       "      <td>239139</td>\n",
       "      <td>Bharatiya Janata Party</td>\n",
       "      <td>Andhra Pradesh</td>\n",
       "      <td>NDA</td>\n",
       "    </tr>\n",
       "    <tr>\n",
       "      <th>2</th>\n",
       "      <td>3</td>\n",
       "      <td>Narsapuram(9)</td>\n",
       "      <td>BHUPATHI RAJU SRINIVASA VARMA (B.J.P.VARMA)</td>\n",
       "      <td>707343</td>\n",
       "      <td>276802</td>\n",
       "      <td>Bharatiya Janata Party</td>\n",
       "      <td>Andhra Pradesh</td>\n",
       "      <td>NDA</td>\n",
       "    </tr>\n",
       "    <tr>\n",
       "      <th>3</th>\n",
       "      <td>4</td>\n",
       "      <td>Arunachal West(1)</td>\n",
       "      <td>KIREN RIJIJU</td>\n",
       "      <td>205417</td>\n",
       "      <td>100738</td>\n",
       "      <td>Bharatiya Janata Party</td>\n",
       "      <td>Arunachal Pradesh</td>\n",
       "      <td>NDA</td>\n",
       "    </tr>\n",
       "    <tr>\n",
       "      <th>4</th>\n",
       "      <td>5</td>\n",
       "      <td>Arunachal East(2)</td>\n",
       "      <td>TAPIR GAO</td>\n",
       "      <td>145581</td>\n",
       "      <td>30421</td>\n",
       "      <td>Bharatiya Janata Party</td>\n",
       "      <td>Arunachal Pradesh</td>\n",
       "      <td>NDA</td>\n",
       "    </tr>\n",
       "  </tbody>\n",
       "</table>\n",
       "</div>"
      ],
      "text/plain": [
       "   S.No Parliament Constituency                            Winning Candidate  \\\n",
       "0     1           Anakapalle(5)                                   C.M.RAMESH   \n",
       "1     2          Rajahmundry(8)                     DAGGUBATI PURANDHESHWARI   \n",
       "2     3           Narsapuram(9)  BHUPATHI RAJU SRINIVASA VARMA (B.J.P.VARMA)   \n",
       "3     4       Arunachal West(1)                                 KIREN RIJIJU   \n",
       "4     5       Arunachal East(2)                                    TAPIR GAO   \n",
       "\n",
       "  Total Votes  Margin              Party Name         State Name Alliance  \n",
       "0      762069  296530  Bharatiya Janata Party     Andhra Pradesh      NDA  \n",
       "1      726515  239139  Bharatiya Janata Party     Andhra Pradesh      NDA  \n",
       "2      707343  276802  Bharatiya Janata Party     Andhra Pradesh      NDA  \n",
       "3      205417  100738  Bharatiya Janata Party  Arunachal Pradesh      NDA  \n",
       "4      145581   30421  Bharatiya Janata Party  Arunachal Pradesh      NDA  "
      ]
     },
     "execution_count": 182,
     "metadata": {},
     "output_type": "execute_result"
    }
   ],
   "source": [
    "df.head()"
   ]
  },
  {
   "cell_type": "markdown",
   "metadata": {},
   "source": [
    "### Highest majority win "
   ]
  },
  {
   "cell_type": "code",
   "execution_count": 183,
   "metadata": {},
   "outputs": [],
   "source": [
    "Majority_consituency=df.sort_values(\"Margin\",ascending=False)\n",
    "Majority_consituency.drop(columns=[\"S.No\",\"Winning Candidate\",\"Total Votes\",\"Margin\",\"Party Name\"],inplace=True)"
   ]
  },
  {
   "cell_type": "code",
   "execution_count": 184,
   "metadata": {},
   "outputs": [],
   "source": [
    "Majority_consituency.drop_duplicates(\"State Name\",inplace=True)"
   ]
  },
  {
   "cell_type": "code",
   "execution_count": 185,
   "metadata": {},
   "outputs": [
    {
     "data": {
      "text/html": [
       "<div>\n",
       "<style scoped>\n",
       "    .dataframe tbody tr th:only-of-type {\n",
       "        vertical-align: middle;\n",
       "    }\n",
       "\n",
       "    .dataframe tbody tr th {\n",
       "        vertical-align: top;\n",
       "    }\n",
       "\n",
       "    .dataframe thead th {\n",
       "        text-align: right;\n",
       "    }\n",
       "</style>\n",
       "<table border=\"1\" class=\"dataframe\">\n",
       "  <thead>\n",
       "    <tr style=\"text-align: right;\">\n",
       "      <th></th>\n",
       "      <th>Parliament Constituency</th>\n",
       "      <th>State Name</th>\n",
       "      <th>Alliance</th>\n",
       "    </tr>\n",
       "  </thead>\n",
       "  <tbody>\n",
       "    <tr>\n",
       "      <th>135</th>\n",
       "      <td>Aska(19)</td>\n",
       "      <td>Odisha</td>\n",
       "      <td>NDA</td>\n",
       "    </tr>\n",
       "    <tr>\n",
       "      <th>371</th>\n",
       "      <td>Jaunpur(73)</td>\n",
       "      <td>Uttar Pradesh</td>\n",
       "      <td>INDIA</td>\n",
       "    </tr>\n",
       "    <tr>\n",
       "      <th>258</th>\n",
       "      <td>Bellary(9)</td>\n",
       "      <td>Karnataka</td>\n",
       "      <td>INDIA</td>\n",
       "    </tr>\n",
       "    <tr>\n",
       "      <th>305</th>\n",
       "      <td>KARAULI-DHOLPUR (10)</td>\n",
       "      <td>Rajasthan</td>\n",
       "      <td>INDIA</td>\n",
       "    </tr>\n",
       "    <tr>\n",
       "      <th>443</th>\n",
       "      <td>Valmiki Nagar (1)</td>\n",
       "      <td>Bihar</td>\n",
       "      <td>NDA</td>\n",
       "    </tr>\n",
       "    <tr>\n",
       "      <th>477</th>\n",
       "      <td>Maval(33)</td>\n",
       "      <td>Maharashtra</td>\n",
       "      <td>NDA</td>\n",
       "    </tr>\n",
       "    <tr>\n",
       "      <th>330</th>\n",
       "      <td>Nagarkurnool(12)</td>\n",
       "      <td>Telangana</td>\n",
       "      <td>INDIA</td>\n",
       "    </tr>\n",
       "    <tr>\n",
       "      <th>233</th>\n",
       "      <td>East Delhi(3)</td>\n",
       "      <td>NCT OF Delhi</td>\n",
       "      <td>NDA</td>\n",
       "    </tr>\n",
       "    <tr>\n",
       "      <th>390</th>\n",
       "      <td>Kolkata Uttar(24)</td>\n",
       "      <td>West Bengal</td>\n",
       "      <td>INDIA</td>\n",
       "    </tr>\n",
       "    <tr>\n",
       "      <th>60</th>\n",
       "      <td>SHIMLA(4)</td>\n",
       "      <td>Himachal Pradesh</td>\n",
       "      <td>NDA</td>\n",
       "    </tr>\n",
       "    <tr>\n",
       "      <th>41</th>\n",
       "      <td>Anand(16)</td>\n",
       "      <td>Gujarat</td>\n",
       "      <td>NDA</td>\n",
       "    </tr>\n",
       "    <tr>\n",
       "      <th>522</th>\n",
       "      <td>Kottayam(14)</td>\n",
       "      <td>Kerala Congress</td>\n",
       "      <td>INDIA</td>\n",
       "    </tr>\n",
       "    <tr>\n",
       "      <th>290</th>\n",
       "      <td>Outer Manipur(2)</td>\n",
       "      <td>Manipur</td>\n",
       "      <td>INDIA</td>\n",
       "    </tr>\n",
       "    <tr>\n",
       "      <th>87</th>\n",
       "      <td>SATNA(9)</td>\n",
       "      <td>Madhya Pradesh</td>\n",
       "      <td>NDA</td>\n",
       "    </tr>\n",
       "    <tr>\n",
       "      <th>294</th>\n",
       "      <td>Gurdaspur(1)</td>\n",
       "      <td>Punjab</td>\n",
       "      <td>INDIA</td>\n",
       "    </tr>\n",
       "    <tr>\n",
       "      <th>534</th>\n",
       "      <td>Giridih(6)</td>\n",
       "      <td>Jharkhand</td>\n",
       "      <td>NDA</td>\n",
       "    </tr>\n",
       "    <tr>\n",
       "      <th>530</th>\n",
       "      <td>Sikkim(1)</td>\n",
       "      <td>Sikkim</td>\n",
       "      <td>NDA</td>\n",
       "    </tr>\n",
       "    <tr>\n",
       "      <th>487</th>\n",
       "      <td>Rajampet(24)</td>\n",
       "      <td>Andhra Pradesh</td>\n",
       "      <td>others</td>\n",
       "    </tr>\n",
       "    <tr>\n",
       "      <th>267</th>\n",
       "      <td>Palakkad(8)</td>\n",
       "      <td>Kerala</td>\n",
       "      <td>INDIA</td>\n",
       "    </tr>\n",
       "    <tr>\n",
       "      <th>55</th>\n",
       "      <td>GURGAON(9)</td>\n",
       "      <td>Haryana</td>\n",
       "      <td>NDA</td>\n",
       "    </tr>\n",
       "    <tr>\n",
       "      <th>511</th>\n",
       "      <td>VILUPPURAM(13)</td>\n",
       "      <td>Tamil Nadu</td>\n",
       "      <td>INDIA</td>\n",
       "    </tr>\n",
       "    <tr>\n",
       "      <th>526</th>\n",
       "      <td>MIZORAM(1)</td>\n",
       "      <td>Mizoram</td>\n",
       "      <td>others</td>\n",
       "    </tr>\n",
       "    <tr>\n",
       "      <th>198</th>\n",
       "      <td>SURGUJA(1)</td>\n",
       "      <td>Chhattisgarh</td>\n",
       "      <td>NDA</td>\n",
       "    </tr>\n",
       "    <tr>\n",
       "      <th>540</th>\n",
       "      <td>Daman &amp; Diu (1)</td>\n",
       "      <td>Dadra &amp; Nagar Haveli and Daman &amp; Diu</td>\n",
       "      <td>others</td>\n",
       "    </tr>\n",
       "    <tr>\n",
       "      <th>151</th>\n",
       "      <td>Tripura West(1)</td>\n",
       "      <td>Tripura</td>\n",
       "      <td>NDA</td>\n",
       "    </tr>\n",
       "    <tr>\n",
       "      <th>519</th>\n",
       "      <td>Kokrajhar (1)</td>\n",
       "      <td>Assam</td>\n",
       "      <td>others</td>\n",
       "    </tr>\n",
       "    <tr>\n",
       "      <th>292</th>\n",
       "      <td>Nagaland(1)</td>\n",
       "      <td>Nagaland</td>\n",
       "      <td>INDIA</td>\n",
       "    </tr>\n",
       "    <tr>\n",
       "      <th>525</th>\n",
       "      <td>Shillong(1)</td>\n",
       "      <td>Meghalaya</td>\n",
       "      <td>others</td>\n",
       "    </tr>\n",
       "    <tr>\n",
       "      <th>219</th>\n",
       "      <td>Nainital-Udhamsingh Nagar(4)</td>\n",
       "      <td>Uttarakhand</td>\n",
       "      <td>NDA</td>\n",
       "    </tr>\n",
       "    <tr>\n",
       "      <th>4</th>\n",
       "      <td>Arunachal East(2)</td>\n",
       "      <td>Arunachal Pradesh</td>\n",
       "      <td>NDA</td>\n",
       "    </tr>\n",
       "    <tr>\n",
       "      <th>518</th>\n",
       "      <td>ANANTNAG-RAJOURI(3)</td>\n",
       "      <td>Jammu and Kashmir</td>\n",
       "      <td>INDIA</td>\n",
       "    </tr>\n",
       "    <tr>\n",
       "      <th>542</th>\n",
       "      <td>Ladakh(1)</td>\n",
       "      <td>Ladakh</td>\n",
       "      <td>others</td>\n",
       "    </tr>\n",
       "    <tr>\n",
       "      <th>337</th>\n",
       "      <td>Lakshadweep(1)</td>\n",
       "      <td>Lakshadweep</td>\n",
       "      <td>INDIA</td>\n",
       "    </tr>\n",
       "    <tr>\n",
       "      <th>336</th>\n",
       "      <td>Chandigarh(1)</td>\n",
       "      <td>Chandigarh</td>\n",
       "      <td>INDIA</td>\n",
       "    </tr>\n",
       "    <tr>\n",
       "      <th>229</th>\n",
       "      <td>Andaman &amp; Nicobar Islands(1)</td>\n",
       "      <td>Andaman &amp; Nicobar Islands</td>\n",
       "      <td>NDA</td>\n",
       "    </tr>\n",
       "    <tr>\n",
       "      <th>338</th>\n",
       "      <td>PUDUCHERRY(1)</td>\n",
       "      <td>Puducherry</td>\n",
       "      <td>INDIA</td>\n",
       "    </tr>\n",
       "    <tr>\n",
       "      <th>246</th>\n",
       "      <td>South Goa(2)</td>\n",
       "      <td>Goa</td>\n",
       "      <td>INDIA</td>\n",
       "    </tr>\n",
       "  </tbody>\n",
       "</table>\n",
       "</div>"
      ],
      "text/plain": [
       "          Parliament Constituency                            State Name  \\\n",
       "135                      Aska(19)                                Odisha   \n",
       "371                   Jaunpur(73)                         Uttar Pradesh   \n",
       "258                    Bellary(9)                             Karnataka   \n",
       "305          KARAULI-DHOLPUR (10)                             Rajasthan   \n",
       "443             Valmiki Nagar (1)                                 Bihar   \n",
       "477                     Maval(33)                           Maharashtra   \n",
       "330              Nagarkurnool(12)                             Telangana   \n",
       "233                 East Delhi(3)                          NCT OF Delhi   \n",
       "390             Kolkata Uttar(24)                           West Bengal   \n",
       "60                      SHIMLA(4)                      Himachal Pradesh   \n",
       "41                      Anand(16)                               Gujarat   \n",
       "522                  Kottayam(14)                       Kerala Congress   \n",
       "290              Outer Manipur(2)                               Manipur   \n",
       "87                       SATNA(9)                        Madhya Pradesh   \n",
       "294                  Gurdaspur(1)                                Punjab   \n",
       "534                    Giridih(6)                             Jharkhand   \n",
       "530                     Sikkim(1)                                Sikkim   \n",
       "487                  Rajampet(24)                        Andhra Pradesh   \n",
       "267                   Palakkad(8)                                Kerala   \n",
       "55                     GURGAON(9)                               Haryana   \n",
       "511                VILUPPURAM(13)                            Tamil Nadu   \n",
       "526                    MIZORAM(1)                               Mizoram   \n",
       "198                    SURGUJA(1)                          Chhattisgarh   \n",
       "540               Daman & Diu (1)  Dadra & Nagar Haveli and Daman & Diu   \n",
       "151               Tripura West(1)                               Tripura   \n",
       "519                 Kokrajhar (1)                                 Assam   \n",
       "292                   Nagaland(1)                              Nagaland   \n",
       "525                   Shillong(1)                             Meghalaya   \n",
       "219  Nainital-Udhamsingh Nagar(4)                           Uttarakhand   \n",
       "4               Arunachal East(2)                     Arunachal Pradesh   \n",
       "518           ANANTNAG-RAJOURI(3)                     Jammu and Kashmir   \n",
       "542                     Ladakh(1)                                Ladakh   \n",
       "337                Lakshadweep(1)                           Lakshadweep   \n",
       "336                 Chandigarh(1)                            Chandigarh   \n",
       "229  Andaman & Nicobar Islands(1)             Andaman & Nicobar Islands   \n",
       "338                 PUDUCHERRY(1)                            Puducherry   \n",
       "246                  South Goa(2)                                   Goa   \n",
       "\n",
       "    Alliance  \n",
       "135      NDA  \n",
       "371    INDIA  \n",
       "258    INDIA  \n",
       "305    INDIA  \n",
       "443      NDA  \n",
       "477      NDA  \n",
       "330    INDIA  \n",
       "233      NDA  \n",
       "390    INDIA  \n",
       "60       NDA  \n",
       "41       NDA  \n",
       "522    INDIA  \n",
       "290    INDIA  \n",
       "87       NDA  \n",
       "294    INDIA  \n",
       "534      NDA  \n",
       "530      NDA  \n",
       "487   others  \n",
       "267    INDIA  \n",
       "55       NDA  \n",
       "511    INDIA  \n",
       "526   others  \n",
       "198      NDA  \n",
       "540   others  \n",
       "151      NDA  \n",
       "519   others  \n",
       "292    INDIA  \n",
       "525   others  \n",
       "219      NDA  \n",
       "4        NDA  \n",
       "518    INDIA  \n",
       "542   others  \n",
       "337    INDIA  \n",
       "336    INDIA  \n",
       "229      NDA  \n",
       "338    INDIA  \n",
       "246    INDIA  "
      ]
     },
     "execution_count": 185,
     "metadata": {},
     "output_type": "execute_result"
    }
   ],
   "source": [
    "Majority_consituency "
   ]
  },
  {
   "cell_type": "code",
   "execution_count": 186,
   "metadata": {},
   "outputs": [
    {
     "data": {
      "text/html": [
       "<div>\n",
       "<style scoped>\n",
       "    .dataframe tbody tr th:only-of-type {\n",
       "        vertical-align: middle;\n",
       "    }\n",
       "\n",
       "    .dataframe tbody tr th {\n",
       "        vertical-align: top;\n",
       "    }\n",
       "\n",
       "    .dataframe thead th {\n",
       "        text-align: right;\n",
       "    }\n",
       "</style>\n",
       "<table border=\"1\" class=\"dataframe\">\n",
       "  <thead>\n",
       "    <tr style=\"text-align: right;\">\n",
       "      <th></th>\n",
       "      <th>S.No</th>\n",
       "      <th>Parliament Constituency</th>\n",
       "      <th>Winning Candidate</th>\n",
       "      <th>Total Votes</th>\n",
       "      <th>Margin</th>\n",
       "      <th>Party Name</th>\n",
       "      <th>State Name</th>\n",
       "      <th>Alliance</th>\n",
       "    </tr>\n",
       "  </thead>\n",
       "  <tbody>\n",
       "    <tr>\n",
       "      <th>0</th>\n",
       "      <td>1</td>\n",
       "      <td>Anakapalle(5)</td>\n",
       "      <td>C.M.RAMESH</td>\n",
       "      <td>762069</td>\n",
       "      <td>296530</td>\n",
       "      <td>Bharatiya Janata Party</td>\n",
       "      <td>Andhra Pradesh</td>\n",
       "      <td>NDA</td>\n",
       "    </tr>\n",
       "    <tr>\n",
       "      <th>1</th>\n",
       "      <td>2</td>\n",
       "      <td>Rajahmundry(8)</td>\n",
       "      <td>DAGGUBATI PURANDHESHWARI</td>\n",
       "      <td>726515</td>\n",
       "      <td>239139</td>\n",
       "      <td>Bharatiya Janata Party</td>\n",
       "      <td>Andhra Pradesh</td>\n",
       "      <td>NDA</td>\n",
       "    </tr>\n",
       "    <tr>\n",
       "      <th>2</th>\n",
       "      <td>3</td>\n",
       "      <td>Narsapuram(9)</td>\n",
       "      <td>BHUPATHI RAJU SRINIVASA VARMA (B.J.P.VARMA)</td>\n",
       "      <td>707343</td>\n",
       "      <td>276802</td>\n",
       "      <td>Bharatiya Janata Party</td>\n",
       "      <td>Andhra Pradesh</td>\n",
       "      <td>NDA</td>\n",
       "    </tr>\n",
       "    <tr>\n",
       "      <th>3</th>\n",
       "      <td>4</td>\n",
       "      <td>Arunachal West(1)</td>\n",
       "      <td>KIREN RIJIJU</td>\n",
       "      <td>205417</td>\n",
       "      <td>100738</td>\n",
       "      <td>Bharatiya Janata Party</td>\n",
       "      <td>Arunachal Pradesh</td>\n",
       "      <td>NDA</td>\n",
       "    </tr>\n",
       "    <tr>\n",
       "      <th>4</th>\n",
       "      <td>5</td>\n",
       "      <td>Arunachal East(2)</td>\n",
       "      <td>TAPIR GAO</td>\n",
       "      <td>145581</td>\n",
       "      <td>30421</td>\n",
       "      <td>Bharatiya Janata Party</td>\n",
       "      <td>Arunachal Pradesh</td>\n",
       "      <td>NDA</td>\n",
       "    </tr>\n",
       "  </tbody>\n",
       "</table>\n",
       "</div>"
      ],
      "text/plain": [
       "   S.No Parliament Constituency                            Winning Candidate  \\\n",
       "0     1           Anakapalle(5)                                   C.M.RAMESH   \n",
       "1     2          Rajahmundry(8)                     DAGGUBATI PURANDHESHWARI   \n",
       "2     3           Narsapuram(9)  BHUPATHI RAJU SRINIVASA VARMA (B.J.P.VARMA)   \n",
       "3     4       Arunachal West(1)                                 KIREN RIJIJU   \n",
       "4     5       Arunachal East(2)                                    TAPIR GAO   \n",
       "\n",
       "  Total Votes  Margin              Party Name         State Name Alliance  \n",
       "0      762069  296530  Bharatiya Janata Party     Andhra Pradesh      NDA  \n",
       "1      726515  239139  Bharatiya Janata Party     Andhra Pradesh      NDA  \n",
       "2      707343  276802  Bharatiya Janata Party     Andhra Pradesh      NDA  \n",
       "3      205417  100738  Bharatiya Janata Party  Arunachal Pradesh      NDA  \n",
       "4      145581   30421  Bharatiya Janata Party  Arunachal Pradesh      NDA  "
      ]
     },
     "execution_count": 186,
     "metadata": {},
     "output_type": "execute_result"
    }
   ],
   "source": [
    "df.head()"
   ]
  },
  {
   "cell_type": "code",
   "execution_count": 187,
   "metadata": {},
   "outputs": [],
   "source": [
    "df.to_csv('Sample.csv',index=False)"
   ]
  },
  {
   "cell_type": "markdown",
   "metadata": {},
   "source": [
    "### State most number of seats"
   ]
  },
  {
   "cell_type": "code",
   "execution_count": 201,
   "metadata": {},
   "outputs": [],
   "source": [
    "Total_seats=df.groupby(\"State Name\")[\"Alliance\"].count()"
   ]
  },
  {
   "cell_type": "code",
   "execution_count": 202,
   "metadata": {},
   "outputs": [
    {
     "data": {
      "text/plain": [
       "State Name\n",
       "Andaman & Nicobar Islands                1\n",
       "Andhra Pradesh                          25\n",
       "Arunachal Pradesh                        2\n",
       "Assam                                   14\n",
       "Bihar                                   40\n",
       "Chandigarh                               1\n",
       "Chhattisgarh                            11\n",
       "Dadra & Nagar Haveli and Daman & Diu     2\n",
       "Goa                                      2\n",
       "Gujarat                                 26\n",
       "Haryana                                 10\n",
       "Himachal Pradesh                         4\n",
       "Jammu and Kashmir                        5\n",
       "Jharkhand                               14\n",
       "Karnataka                               28\n",
       "Kerala                                  19\n",
       "Kerala Congress                          1\n",
       "Ladakh                                   1\n",
       "Lakshadweep                              1\n",
       "Madhya Pradesh                          29\n",
       "Maharashtra                             48\n",
       "Manipur                                  2\n",
       "Meghalaya                                2\n",
       "Mizoram                                  1\n",
       "NCT OF Delhi                             7\n",
       "Nagaland                                 1\n",
       "Odisha                                  21\n",
       "Puducherry                               1\n",
       "Punjab                                  13\n",
       "Rajasthan                               25\n",
       "Sikkim                                   1\n",
       "Tamil Nadu                              39\n",
       "Telangana                               17\n",
       "Tripura                                  2\n",
       "Uttar Pradesh                           80\n",
       "Uttarakhand                              5\n",
       "West Bengal                             42\n",
       "Name: Alliance, dtype: int64"
      ]
     },
     "execution_count": 202,
     "metadata": {},
     "output_type": "execute_result"
    }
   ],
   "source": [
    "Total_seats"
   ]
  },
  {
   "cell_type": "code",
   "execution_count": 203,
   "metadata": {},
   "outputs": [],
   "source": [
    "Total_seats=Total_seats.to_frame().reset_index()"
   ]
  },
  {
   "cell_type": "code",
   "execution_count": 208,
   "metadata": {},
   "outputs": [
    {
     "data": {
      "text/plain": [
       "State Name    Uttar Pradesh\n",
       "Alliance                 80\n",
       "Name: 34, dtype: object"
      ]
     },
     "execution_count": 208,
     "metadata": {},
     "output_type": "execute_result"
    }
   ],
   "source": [
    "Total_seats.iloc[Total_seats[\"Alliance\"].idxmax()]"
   ]
  },
  {
   "cell_type": "markdown",
   "metadata": {},
   "source": [
    "### State with most NDA seats"
   ]
  },
  {
   "cell_type": "code",
   "execution_count": 211,
   "metadata": {},
   "outputs": [],
   "source": [
    "NDA_seats=df[df[\"Alliance\"]==\"NDA\"].groupby(\"State Name\")[\"Alliance\"].count()"
   ]
  },
  {
   "cell_type": "code",
   "execution_count": 212,
   "metadata": {},
   "outputs": [
    {
     "data": {
      "text/plain": [
       "State Name\n",
       "Andaman & Nicobar Islands                1\n",
       "Andhra Pradesh                          21\n",
       "Arunachal Pradesh                        2\n",
       "Assam                                   10\n",
       "Bihar                                   30\n",
       "Chhattisgarh                            10\n",
       "Dadra & Nagar Haveli and Daman & Diu     1\n",
       "Goa                                      1\n",
       "Gujarat                                 25\n",
       "Haryana                                  5\n",
       "Himachal Pradesh                         4\n",
       "Jammu and Kashmir                        2\n",
       "Jharkhand                                9\n",
       "Karnataka                               19\n",
       "Kerala                                   1\n",
       "Madhya Pradesh                          29\n",
       "Maharashtra                             17\n",
       "NCT OF Delhi                             7\n",
       "Odisha                                  20\n",
       "Rajasthan                               14\n",
       "Sikkim                                   1\n",
       "Telangana                                8\n",
       "Tripura                                  2\n",
       "Uttar Pradesh                           36\n",
       "Uttarakhand                              5\n",
       "West Bengal                             12\n",
       "Name: Alliance, dtype: int64"
      ]
     },
     "execution_count": 212,
     "metadata": {},
     "output_type": "execute_result"
    }
   ],
   "source": [
    "NDA_seats"
   ]
  },
  {
   "cell_type": "code",
   "execution_count": 214,
   "metadata": {},
   "outputs": [],
   "source": [
    "NDA_seats=NDA_seats.to_frame().reset_index()"
   ]
  },
  {
   "cell_type": "code",
   "execution_count": 215,
   "metadata": {},
   "outputs": [
    {
     "data": {
      "text/plain": [
       "State Name    Uttar Pradesh\n",
       "Alliance                 36\n",
       "Name: 23, dtype: object"
      ]
     },
     "execution_count": 215,
     "metadata": {},
     "output_type": "execute_result"
    }
   ],
   "source": [
    "NDA_seats.iloc[NDA_seats[\"Alliance\"].idxmax()]"
   ]
  },
  {
   "cell_type": "markdown",
   "metadata": {},
   "source": [
    "### State with most INDIA seats"
   ]
  },
  {
   "cell_type": "code",
   "execution_count": 216,
   "metadata": {},
   "outputs": [],
   "source": [
    "INDIA_seats=df[df[\"Alliance\"]==\"INDIA\"].groupby(\"State Name\")[\"Alliance\"].count()"
   ]
  },
  {
   "cell_type": "code",
   "execution_count": 217,
   "metadata": {},
   "outputs": [
    {
     "data": {
      "text/plain": [
       "State Name\n",
       "Assam                 3\n",
       "Bihar                 9\n",
       "Chandigarh            1\n",
       "Chhattisgarh          1\n",
       "Goa                   1\n",
       "Gujarat               1\n",
       "Haryana               5\n",
       "Jammu and Kashmir     2\n",
       "Jharkhand             5\n",
       "Karnataka             9\n",
       "Kerala               18\n",
       "Kerala Congress       1\n",
       "Lakshadweep           1\n",
       "Maharashtra          30\n",
       "Manipur               2\n",
       "Meghalaya             1\n",
       "Nagaland              1\n",
       "Odisha                1\n",
       "Puducherry            1\n",
       "Punjab               10\n",
       "Rajasthan            10\n",
       "Tamil Nadu           39\n",
       "Telangana             9\n",
       "Uttar Pradesh        43\n",
       "West Bengal          30\n",
       "Name: Alliance, dtype: int64"
      ]
     },
     "execution_count": 217,
     "metadata": {},
     "output_type": "execute_result"
    }
   ],
   "source": [
    "INDIA_seats"
   ]
  },
  {
   "cell_type": "code",
   "execution_count": 219,
   "metadata": {},
   "outputs": [],
   "source": [
    "INDIA_seats=INDIA_seats.to_frame().reset_index()"
   ]
  },
  {
   "cell_type": "code",
   "execution_count": 221,
   "metadata": {},
   "outputs": [
    {
     "data": {
      "text/plain": [
       "State Name    Uttar Pradesh\n",
       "Alliance                 43\n",
       "Name: 23, dtype: object"
      ]
     },
     "execution_count": 221,
     "metadata": {},
     "output_type": "execute_result"
    }
   ],
   "source": [
    "INDIA_seats.iloc[INDIA_seats[\"Alliance\"].idxmax()]"
   ]
  },
  {
   "cell_type": "code",
   "execution_count": null,
   "metadata": {},
   "outputs": [],
   "source": []
  }
 ],
 "metadata": {
  "kernelspec": {
   "display_name": "Python 3",
   "language": "python",
   "name": "python3"
  },
  "language_info": {
   "codemirror_mode": {
    "name": "ipython",
    "version": 3
   },
   "file_extension": ".py",
   "mimetype": "text/x-python",
   "name": "python",
   "nbconvert_exporter": "python",
   "pygments_lexer": "ipython3",
   "version": "3.7.5"
  }
 },
 "nbformat": 4,
 "nbformat_minor": 2
}
